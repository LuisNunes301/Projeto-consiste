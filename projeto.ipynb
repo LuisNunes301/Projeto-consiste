{
 "cells": [
  {
   "cell_type": "code",
   "execution_count": 112,
   "metadata": {},
   "outputs": [],
   "source": [
    "import pandas as pd\n",
    "import numpy as np\n",
    "\n"
   ]
  },
  {
   "cell_type": "code",
   "execution_count": 111,
   "metadata": {},
   "outputs": [],
   "source": [
    "pessoas_Df = pd.read_csv(\"dataset\\DATASET.CSV\",delimiter=';')"
   ]
  },
  {
   "cell_type": "code",
   "execution_count": 124,
   "metadata": {},
   "outputs": [
    {
     "data": {
      "text/html": [
       "<div>\n",
       "<style scoped>\n",
       "    .dataframe tbody tr th:only-of-type {\n",
       "        vertical-align: middle;\n",
       "    }\n",
       "\n",
       "    .dataframe tbody tr th {\n",
       "        vertical-align: top;\n",
       "    }\n",
       "\n",
       "    .dataframe thead th {\n",
       "        text-align: right;\n",
       "    }\n",
       "</style>\n",
       "<table border=\"1\" class=\"dataframe\">\n",
       "  <thead>\n",
       "    <tr style=\"text-align: right;\">\n",
       "      <th></th>\n",
       "      <th>Primeiro Nome</th>\n",
       "      <th>Sobrenomes</th>\n",
       "      <th>Peso (kg)</th>\n",
       "      <th>Altura (m)</th>\n",
       "    </tr>\n",
       "  </thead>\n",
       "  <tbody>\n",
       "    <tr>\n",
       "      <th>0</th>\n",
       "      <td>felipe</td>\n",
       "      <td>neves da hora</td>\n",
       "      <td>70,6</td>\n",
       "      <td>1,69</td>\n",
       "    </tr>\n",
       "    <tr>\n",
       "      <th>1</th>\n",
       "      <td>sandro</td>\n",
       "      <td>barbosa</td>\n",
       "      <td>90,5</td>\n",
       "      <td>1,73</td>\n",
       "    </tr>\n",
       "    <tr>\n",
       "      <th>2</th>\n",
       "      <td>maycon</td>\n",
       "      <td>da silva ferreira</td>\n",
       "      <td>100,01</td>\n",
       "      <td>1,82</td>\n",
       "    </tr>\n",
       "    <tr>\n",
       "      <th>3</th>\n",
       "      <td>jeferson</td>\n",
       "      <td>Oliveira</td>\n",
       "      <td>80,04</td>\n",
       "      <td>1,75</td>\n",
       "    </tr>\n",
       "    <tr>\n",
       "      <th>4</th>\n",
       "      <td>manuel</td>\n",
       "      <td>gomes   vieira</td>\n",
       "      <td>63,05</td>\n",
       "      <td>1,8</td>\n",
       "    </tr>\n",
       "    <tr>\n",
       "      <th>...</th>\n",
       "      <td>...</td>\n",
       "      <td>...</td>\n",
       "      <td>...</td>\n",
       "      <td>...</td>\n",
       "    </tr>\n",
       "    <tr>\n",
       "      <th>94</th>\n",
       "      <td>Luna</td>\n",
       "      <td>Lunara Lua</td>\n",
       "      <td>70</td>\n",
       "      <td>1,86</td>\n",
       "    </tr>\n",
       "    <tr>\n",
       "      <th>95</th>\n",
       "      <td>hulk</td>\n",
       "      <td>jose</td>\n",
       "      <td>35,5</td>\n",
       "      <td>1,2</td>\n",
       "    </tr>\n",
       "    <tr>\n",
       "      <th>96</th>\n",
       "      <td>maria</td>\n",
       "      <td>gomes</td>\n",
       "      <td>58,05</td>\n",
       "      <td>1,56</td>\n",
       "    </tr>\n",
       "    <tr>\n",
       "      <th>97</th>\n",
       "      <td>paulo</td>\n",
       "      <td>rocha</td>\n",
       "      <td>98,07</td>\n",
       "      <td>2</td>\n",
       "    </tr>\n",
       "    <tr>\n",
       "      <th>98</th>\n",
       "      <td>Luane</td>\n",
       "      <td>Santana   Teixeira</td>\n",
       "      <td>50,78</td>\n",
       "      <td>1,5</td>\n",
       "    </tr>\n",
       "  </tbody>\n",
       "</table>\n",
       "<p>99 rows × 4 columns</p>\n",
       "</div>"
      ],
      "text/plain": [
       "            Primeiro Nome           Sobrenomes Peso (kg) Altura (m)\n",
       "0                  felipe        neves da hora      70,6       1,69\n",
       "1                sandro                barbosa      90,5       1,73\n",
       "2                  maycon    da silva ferreira    100,01       1,82\n",
       "3             jeferson                Oliveira     80,04       1,75\n",
       "4                  manuel       gomes   vieira     63,05        1,8\n",
       "..                    ...                  ...       ...        ...\n",
       "94                   Luna           Lunara Lua        70       1,86\n",
       "95                  hulk                  jose      35,5        1,2\n",
       "96                  maria                gomes     58,05       1,56\n",
       "97                  paulo                rocha     98,07          2\n",
       "98  Luane                   Santana   Teixeira     50,78        1,5\n",
       "\n",
       "[99 rows x 4 columns]"
      ]
     },
     "execution_count": 124,
     "metadata": {},
     "output_type": "execute_result"
    }
   ],
   "source": [
    "df_tmp = pessoas_Df\n",
    "df_tmp"
   ]
  },
  {
   "cell_type": "code",
   "execution_count": 125,
   "metadata": {},
   "outputs": [],
   "source": [
    "df_tmp['Peso (kg)'] = df_tmp['Peso (kg)'].str.replace(',', '.').astype(float)\n",
    "df_tmp['Altura (m)'] = df_tmp['Altura (m)'].str.replace(',', '.').astype(float)"
   ]
  },
  {
   "cell_type": "code",
   "execution_count": 126,
   "metadata": {},
   "outputs": [
    {
     "data": {
      "text/html": [
       "<div>\n",
       "<style scoped>\n",
       "    .dataframe tbody tr th:only-of-type {\n",
       "        vertical-align: middle;\n",
       "    }\n",
       "\n",
       "    .dataframe tbody tr th {\n",
       "        vertical-align: top;\n",
       "    }\n",
       "\n",
       "    .dataframe thead th {\n",
       "        text-align: right;\n",
       "    }\n",
       "</style>\n",
       "<table border=\"1\" class=\"dataframe\">\n",
       "  <thead>\n",
       "    <tr style=\"text-align: right;\">\n",
       "      <th></th>\n",
       "      <th>Primeiro Nome</th>\n",
       "      <th>Sobrenomes</th>\n",
       "      <th>Peso (kg)</th>\n",
       "      <th>Altura (m)</th>\n",
       "    </tr>\n",
       "  </thead>\n",
       "  <tbody>\n",
       "    <tr>\n",
       "      <th>0</th>\n",
       "      <td>felipe</td>\n",
       "      <td>neves da hora</td>\n",
       "      <td>70.60</td>\n",
       "      <td>1.69</td>\n",
       "    </tr>\n",
       "    <tr>\n",
       "      <th>1</th>\n",
       "      <td>sandro</td>\n",
       "      <td>barbosa</td>\n",
       "      <td>90.50</td>\n",
       "      <td>1.73</td>\n",
       "    </tr>\n",
       "    <tr>\n",
       "      <th>2</th>\n",
       "      <td>maycon</td>\n",
       "      <td>da silva ferreira</td>\n",
       "      <td>100.01</td>\n",
       "      <td>1.82</td>\n",
       "    </tr>\n",
       "    <tr>\n",
       "      <th>3</th>\n",
       "      <td>jeferson</td>\n",
       "      <td>Oliveira</td>\n",
       "      <td>80.04</td>\n",
       "      <td>1.75</td>\n",
       "    </tr>\n",
       "    <tr>\n",
       "      <th>4</th>\n",
       "      <td>manuel</td>\n",
       "      <td>gomes   vieira</td>\n",
       "      <td>63.05</td>\n",
       "      <td>1.80</td>\n",
       "    </tr>\n",
       "  </tbody>\n",
       "</table>\n",
       "</div>"
      ],
      "text/plain": [
       "  Primeiro Nome         Sobrenomes  Peso (kg)  Altura (m)\n",
       "0        felipe      neves da hora      70.60        1.69\n",
       "1      sandro              barbosa      90.50        1.73\n",
       "2        maycon  da silva ferreira     100.01        1.82\n",
       "3   jeferson              Oliveira      80.04        1.75\n",
       "4        manuel     gomes   vieira      63.05        1.80"
      ]
     },
     "execution_count": 126,
     "metadata": {},
     "output_type": "execute_result"
    }
   ],
   "source": [
    "df_tmp.head()"
   ]
  },
  {
   "cell_type": "code",
   "execution_count": 138,
   "metadata": {},
   "outputs": [],
   "source": [
    "def calcular_imc(df):\n",
    "    df['IMC'] = df['Peso (kg)'] / (df['Altura (m)'] ** 2)\n",
    "    df['IMC'] = df['IMC'].round(2)\n",
    "    return df\n",
    "def mostrar_dados(df):\n",
    "    # Selecionar e retornar as colunas desejadas\n",
    "    return df[['Primeiro Nome', 'Sobrenomes', 'IMC']]"
   ]
  },
  {
   "cell_type": "code",
   "execution_count": 131,
   "metadata": {},
   "outputs": [],
   "source": [
    "df_tmp = calcular_imc(df_tmp)"
   ]
  },
  {
   "cell_type": "code",
   "execution_count": 141,
   "metadata": {},
   "outputs": [],
   "source": [
    "df_resultado = mostrar_dados(df_tmp)"
   ]
  },
  {
   "cell_type": "code",
   "execution_count": 147,
   "metadata": {},
   "outputs": [],
   "source": [
    "df_resultado.to_csv('resultado_imc.csv', sep='\\t', index=False)"
   ]
  }
 ],
 "metadata": {
  "kernelspec": {
   "display_name": "Python 3",
   "language": "python",
   "name": "python3"
  },
  "language_info": {
   "codemirror_mode": {
    "name": "ipython",
    "version": 3
   },
   "file_extension": ".py",
   "mimetype": "text/x-python",
   "name": "python",
   "nbconvert_exporter": "python",
   "pygments_lexer": "ipython3",
   "version": "3.11.2"
  }
 },
 "nbformat": 4,
 "nbformat_minor": 2
}
